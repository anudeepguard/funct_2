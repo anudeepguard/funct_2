{
  "nbformat": 4,
  "nbformat_minor": 0,
  "metadata": {
    "colab": {
      "provenance": []
    },
    "kernelspec": {
      "name": "python3",
      "display_name": "Python 3"
    },
    "language_info": {
      "name": "python"
    }
  },
  "cells": [
    {
      "cell_type": "markdown",
      "source": [],
      "metadata": {
        "id": "XgSEGzVja4Yo"
      }
    },
    {
      "cell_type": "code",
      "execution_count": null,
      "metadata": {
        "colab": {
          "base_uri": "https://localhost:8080/"
        },
        "id": "YREWlNA0a2Lk",
        "outputId": "71e22696-1fe9-462f-d839-18d174d45a1c"
      },
      "outputs": [
        {
          "output_type": "stream",
          "name": "stdout",
          "text": [
            "list of even numbers in the list are : [2, 4, 6, 58, 64, 78]\n",
            "the sum of all even numbers in the above list is : 212\n"
          ]
        }
      ],
      "source": [
        "# 1)write Python function that takes a list of numbers as input and returns the sum of all even numbers in the list.\n",
        "\n",
        "\n",
        "def sum_of_evens(*numbers):      #number of arguments\n",
        "\n",
        "    result=filter(lambda x: x % 2 ==0,numbers)\n",
        "\n",
        "    y=(list(result ))\n",
        "    print(\"list of even numbers in the list are :\",y)\n",
        "    sum=0\n",
        "    for i in y:\n",
        "        sum=sum+i\n",
        "    print(\"the sum of all even numbers in the above list is :\",sum)\n",
        "\n",
        "\n",
        "sum_of_evens(2,3,4,5,6,58,64,25,78)              # function call\n"
      ]
    },
    {
      "cell_type": "code",
      "source": [
        "# 2)write a code Python function that accepts a string and returns the reverse of that string.\n",
        "\n",
        "def rev(stringg):\n",
        "  return stringg[::-1]\n",
        "\n",
        "a=input(\"enter the string to be reversed :\")\n",
        "rev(a)"
      ],
      "metadata": {
        "colab": {
          "base_uri": "https://localhost:8080/",
          "height": 52
        },
        "id": "CooPFUwuhcMi",
        "outputId": "5f569a9f-881f-46ee-b94b-bfce35ad36ea"
      },
      "execution_count": null,
      "outputs": [
        {
          "name": "stdout",
          "output_type": "stream",
          "text": [
            "enter the string to be reversed :HEY MONJALIKA !!\n"
          ]
        },
        {
          "output_type": "execute_result",
          "data": {
            "text/plain": [
              "'!! AKILAJNOM YEH'"
            ],
            "application/vnd.google.colaboratory.intrinsic+json": {
              "type": "string"
            }
          },
          "metadata": {},
          "execution_count": 5
        }
      ]
    },
    {
      "cell_type": "code",
      "source": [
        "\n",
        "#3) Implement a Python function that takes a list of integers and returns a new list containing the squares of each number.\n",
        "\n",
        "\n",
        "def square_numbers(numbers):\n",
        "    return [num ** 2 for num in numbers]\n",
        "input_list = []\n",
        "input_list=(input(\"enter the list elements seperated by space \"))\n",
        "numbers = list(map(int,input_list.split()))\n",
        "\n",
        "print(type(numbers),numbers)\n",
        "print(\"the squared list is:\",square_numbers(numbers))\n"
      ],
      "metadata": {
        "id": "T0zzX4P3CsU_",
        "colab": {
          "base_uri": "https://localhost:8080/"
        },
        "outputId": "48da5de7-8862-45b0-fc4b-fe199fd1ed3d"
      },
      "execution_count": null,
      "outputs": [
        {
          "output_type": "stream",
          "name": "stdout",
          "text": [
            "enter the list elements seperated by space 1 2 3 4 5\n",
            "<class 'list'> [1, 2, 3, 4, 5]\n",
            "the squared list is: [1, 4, 9, 16, 25]\n"
          ]
        }
      ]
    },
    {
      "cell_type": "code",
      "source": [
        "# 4)Write a Python function that checks if a given number is prime or not from 1 to 200.\n",
        "\n",
        "def prime(number):\n",
        "   if number < 2:\n",
        "        return False\n",
        "   for i in range(2, int(number ** 0.5) + 1):\n",
        "        if number % i == 0:\n",
        "           return False\n",
        "        return True\n",
        "\n",
        "for num in range(1, 201):     # Check for numbers from 1 to 200\n",
        "    if prime(num):\n",
        "        print(f\"{num} is a prime number.\")\n",
        "    else:\n",
        "        print(f\"{num} is not a prime number.\")"
      ],
      "metadata": {
        "colab": {
          "base_uri": "https://localhost:8080/"
        },
        "id": "x3JNlW5pOlFN",
        "outputId": "4b0a556c-ce0e-40df-8198-b0ac0ab53704"
      },
      "execution_count": null,
      "outputs": [
        {
          "output_type": "stream",
          "name": "stdout",
          "text": [
            "1 is not a prime number.\n",
            "2 is not a prime number.\n",
            "3 is not a prime number.\n",
            "4 is not a prime number.\n",
            "5 is a prime number.\n",
            "6 is not a prime number.\n",
            "7 is a prime number.\n",
            "8 is not a prime number.\n",
            "9 is a prime number.\n",
            "10 is not a prime number.\n",
            "11 is a prime number.\n",
            "12 is not a prime number.\n",
            "13 is a prime number.\n",
            "14 is not a prime number.\n",
            "15 is a prime number.\n",
            "16 is not a prime number.\n",
            "17 is a prime number.\n",
            "18 is not a prime number.\n",
            "19 is a prime number.\n",
            "20 is not a prime number.\n",
            "21 is a prime number.\n",
            "22 is not a prime number.\n",
            "23 is a prime number.\n",
            "24 is not a prime number.\n",
            "25 is a prime number.\n",
            "26 is not a prime number.\n",
            "27 is a prime number.\n",
            "28 is not a prime number.\n",
            "29 is a prime number.\n",
            "30 is not a prime number.\n",
            "31 is a prime number.\n",
            "32 is not a prime number.\n",
            "33 is a prime number.\n",
            "34 is not a prime number.\n",
            "35 is a prime number.\n",
            "36 is not a prime number.\n",
            "37 is a prime number.\n",
            "38 is not a prime number.\n",
            "39 is a prime number.\n",
            "40 is not a prime number.\n",
            "41 is a prime number.\n",
            "42 is not a prime number.\n",
            "43 is a prime number.\n",
            "44 is not a prime number.\n",
            "45 is a prime number.\n",
            "46 is not a prime number.\n",
            "47 is a prime number.\n",
            "48 is not a prime number.\n",
            "49 is a prime number.\n",
            "50 is not a prime number.\n",
            "51 is a prime number.\n",
            "52 is not a prime number.\n",
            "53 is a prime number.\n",
            "54 is not a prime number.\n",
            "55 is a prime number.\n",
            "56 is not a prime number.\n",
            "57 is a prime number.\n",
            "58 is not a prime number.\n",
            "59 is a prime number.\n",
            "60 is not a prime number.\n",
            "61 is a prime number.\n",
            "62 is not a prime number.\n",
            "63 is a prime number.\n",
            "64 is not a prime number.\n",
            "65 is a prime number.\n",
            "66 is not a prime number.\n",
            "67 is a prime number.\n",
            "68 is not a prime number.\n",
            "69 is a prime number.\n",
            "70 is not a prime number.\n",
            "71 is a prime number.\n",
            "72 is not a prime number.\n",
            "73 is a prime number.\n",
            "74 is not a prime number.\n",
            "75 is a prime number.\n",
            "76 is not a prime number.\n",
            "77 is a prime number.\n",
            "78 is not a prime number.\n",
            "79 is a prime number.\n",
            "80 is not a prime number.\n",
            "81 is a prime number.\n",
            "82 is not a prime number.\n",
            "83 is a prime number.\n",
            "84 is not a prime number.\n",
            "85 is a prime number.\n",
            "86 is not a prime number.\n",
            "87 is a prime number.\n",
            "88 is not a prime number.\n",
            "89 is a prime number.\n",
            "90 is not a prime number.\n",
            "91 is a prime number.\n",
            "92 is not a prime number.\n",
            "93 is a prime number.\n",
            "94 is not a prime number.\n",
            "95 is a prime number.\n",
            "96 is not a prime number.\n",
            "97 is a prime number.\n",
            "98 is not a prime number.\n",
            "99 is a prime number.\n",
            "100 is not a prime number.\n",
            "101 is a prime number.\n",
            "102 is not a prime number.\n",
            "103 is a prime number.\n",
            "104 is not a prime number.\n",
            "105 is a prime number.\n",
            "106 is not a prime number.\n",
            "107 is a prime number.\n",
            "108 is not a prime number.\n",
            "109 is a prime number.\n",
            "110 is not a prime number.\n",
            "111 is a prime number.\n",
            "112 is not a prime number.\n",
            "113 is a prime number.\n",
            "114 is not a prime number.\n",
            "115 is a prime number.\n",
            "116 is not a prime number.\n",
            "117 is a prime number.\n",
            "118 is not a prime number.\n",
            "119 is a prime number.\n",
            "120 is not a prime number.\n",
            "121 is a prime number.\n",
            "122 is not a prime number.\n",
            "123 is a prime number.\n",
            "124 is not a prime number.\n",
            "125 is a prime number.\n",
            "126 is not a prime number.\n",
            "127 is a prime number.\n",
            "128 is not a prime number.\n",
            "129 is a prime number.\n",
            "130 is not a prime number.\n",
            "131 is a prime number.\n",
            "132 is not a prime number.\n",
            "133 is a prime number.\n",
            "134 is not a prime number.\n",
            "135 is a prime number.\n",
            "136 is not a prime number.\n",
            "137 is a prime number.\n",
            "138 is not a prime number.\n",
            "139 is a prime number.\n",
            "140 is not a prime number.\n",
            "141 is a prime number.\n",
            "142 is not a prime number.\n",
            "143 is a prime number.\n",
            "144 is not a prime number.\n",
            "145 is a prime number.\n",
            "146 is not a prime number.\n",
            "147 is a prime number.\n",
            "148 is not a prime number.\n",
            "149 is a prime number.\n",
            "150 is not a prime number.\n",
            "151 is a prime number.\n",
            "152 is not a prime number.\n",
            "153 is a prime number.\n",
            "154 is not a prime number.\n",
            "155 is a prime number.\n",
            "156 is not a prime number.\n",
            "157 is a prime number.\n",
            "158 is not a prime number.\n",
            "159 is a prime number.\n",
            "160 is not a prime number.\n",
            "161 is a prime number.\n",
            "162 is not a prime number.\n",
            "163 is a prime number.\n",
            "164 is not a prime number.\n",
            "165 is a prime number.\n",
            "166 is not a prime number.\n",
            "167 is a prime number.\n",
            "168 is not a prime number.\n",
            "169 is a prime number.\n",
            "170 is not a prime number.\n",
            "171 is a prime number.\n",
            "172 is not a prime number.\n",
            "173 is a prime number.\n",
            "174 is not a prime number.\n",
            "175 is a prime number.\n",
            "176 is not a prime number.\n",
            "177 is a prime number.\n",
            "178 is not a prime number.\n",
            "179 is a prime number.\n",
            "180 is not a prime number.\n",
            "181 is a prime number.\n",
            "182 is not a prime number.\n",
            "183 is a prime number.\n",
            "184 is not a prime number.\n",
            "185 is a prime number.\n",
            "186 is not a prime number.\n",
            "187 is a prime number.\n",
            "188 is not a prime number.\n",
            "189 is a prime number.\n",
            "190 is not a prime number.\n",
            "191 is a prime number.\n",
            "192 is not a prime number.\n",
            "193 is a prime number.\n",
            "194 is not a prime number.\n",
            "195 is a prime number.\n",
            "196 is not a prime number.\n",
            "197 is a prime number.\n",
            "198 is not a prime number.\n",
            "199 is a prime number.\n",
            "200 is not a prime number.\n"
          ]
        }
      ]
    },
    {
      "cell_type": "code",
      "source": [
        "# 5)  Create an iterator class in Python that generates the Fibonacci sequence up to a specified number of terms.\n",
        "\n",
        "class FibonacciIterator:\n",
        "\n",
        "    def __init__(self, n_terms):\n",
        "\n",
        "        self.n_terms = n_terms\n",
        "        self.current = 0  # Current term index\n",
        "        self.a = 0        # First number in the sequence\n",
        "        self.b = 1        # Second number in the sequence\n",
        "\n",
        "    def __iter__(self):\n",
        "        \"\"\"\n",
        "        Returns the iterator object itself.\n",
        "        \"\"\"\n",
        "        return self\n",
        "\n",
        "    def __next__(self):\n",
        "\n",
        "        if self.current >= self.n_terms:\n",
        "            raise StopIteration\n",
        "        if self.current == 0:\n",
        "            self.current += 1\n",
        "            return self.a\n",
        "        elif self.current == 1:\n",
        "            self.current += 1\n",
        "            return self.b\n",
        "        else:\n",
        "            fib = self.a + self.b\n",
        "            self.a, self.b = self.b, fib\n",
        "            self.current += 1\n",
        "            return fib\n",
        "\n",
        "# Example usage\n",
        "n = 10  # Specify the number of Fibonacci terms\n",
        "fib_iterator = FibonacciIterator(n)\n",
        "\n",
        "for fib_num in fib_iterator:\n",
        "    print(fib_num)\n"
      ],
      "metadata": {
        "colab": {
          "base_uri": "https://localhost:8080/"
        },
        "id": "BAVQOV9QoHu5",
        "outputId": "1cd2ed71-f3ef-400f-a0d7-3d40b9cc2782"
      },
      "execution_count": null,
      "outputs": [
        {
          "output_type": "stream",
          "name": "stdout",
          "text": [
            "0\n",
            "1\n",
            "1\n",
            "2\n",
            "3\n",
            "5\n",
            "8\n",
            "13\n",
            "21\n",
            "34\n"
          ]
        }
      ]
    },
    {
      "cell_type": "code",
      "source": [
        "# 6) Write a generator function in Python that yields the powers of 2 up to a given exponent.\n",
        "\n",
        "def powers_of_two(max_exponent):\n",
        "\n",
        "    for exponent in range(max_exponent + 1):\n",
        "        yield 2 ** exponent\n",
        "\n",
        "# Example usage\n",
        "a=int(input(\"enter the  max number of 2power \"))\n",
        "for power in powers_of_two(a):\n",
        "    print(power)\n",
        "\n"
      ],
      "metadata": {
        "colab": {
          "base_uri": "https://localhost:8080/"
        },
        "id": "kkD8FyyOFDWM",
        "outputId": "0666ae15-b89c-4372-8a80-1704a890ca29"
      },
      "execution_count": null,
      "outputs": [
        {
          "output_type": "stream",
          "name": "stdout",
          "text": [
            "enter the  max number of 2power 6\n",
            "1\n",
            "2\n",
            "4\n",
            "8\n",
            "16\n",
            "32\n",
            "64\n"
          ]
        }
      ]
    },
    {
      "cell_type": "code",
      "source": [
        "\n",
        "#7) Implement a generator function that reads a file line by line and yields each line as a string.\n",
        "L = [\"anudeep\\n\", \"is \\n\", \"genius\\n\"]\n",
        "\n",
        "# Writing to file\n",
        "file1 = open('myfile.txt', 'w')\n",
        "file1.writelines(L)\n",
        "file1.close()\n",
        "\n",
        "# Opening file\n",
        "file1 = open('myfile.txt', 'r')\n",
        "count = 0\n",
        "\n",
        "# Using for loop\n",
        "print(\"Using for loop\")\n",
        "for line in file1:\n",
        "    count += 1\n",
        "    print(\"Line{}: {}\".format(count, line.strip()))\n",
        "\n",
        "# Closing files\n",
        "file1.close()\n"
      ],
      "metadata": {
        "colab": {
          "base_uri": "https://localhost:8080/"
        },
        "id": "aMQ-jy-kIqVQ",
        "outputId": "b99d5072-12da-4ea8-cb99-0c0e135af907"
      },
      "execution_count": 18,
      "outputs": [
        {
          "output_type": "stream",
          "name": "stdout",
          "text": [
            "Using for loop\n",
            "Line1: anudeep\n",
            "Line2: is\n",
            "Line3: genius\n"
          ]
        }
      ]
    },
    {
      "cell_type": "code",
      "source": [
        "# 8). Use a lambda function in Python to sort a list of tuples based on the second element of each tuple.\n",
        "\n",
        "\n",
        "Sample list of tuples\n",
        "data = [(1, 3), (4, 1), (2, 2), (5, 0)]\n",
        "\n",
        "# Sorting the list of tuples based on the second element\n",
        "sorted_data = sorted(data, key=lambda x: x[1])\n",
        "\n",
        "print(\"Original list:\", data)\n",
        "print(\"Sorted list:\", sorted_data)\n"
      ],
      "metadata": {
        "colab": {
          "base_uri": "https://localhost:8080/"
        },
        "id": "7QfPRPDwN-Bt",
        "outputId": "de994f78-ded0-4fe8-9612-981de89fc4b3"
      },
      "execution_count": null,
      "outputs": [
        {
          "output_type": "stream",
          "name": "stdout",
          "text": [
            "Original list: [(1, 3), (4, 1), (2, 2), (5, 0)]\n",
            "Sorted list: [(5, 0), (4, 1), (2, 2), (1, 3)]\n"
          ]
        }
      ]
    },
    {
      "cell_type": "code",
      "source": [
        "# 9) Write a Python program that uses `map()` to convert a list of temperatures from Celsius to Fahrenheit.\n",
        "\n",
        "# Function to convert Celsius to Fahrenheit\n",
        "def celsius_to_fahrenheit(celsius):\n",
        "    return (celsius * 9/5) + 32\n",
        "\n",
        "# List of temperatures in Celsius\n",
        "celsius_temperatures = [0, 20, 37, 100, -10, 15]\n",
        "\n",
        "fahrenheit_temperatures = list(map(celsius_to_fahrenheit, celsius_temperatures))\n",
        "\n",
        "# Print the results\n",
        "print(\"Celsius temperatures:\", celsius_temperatures)\n",
        "print(\"Fahrenheit temperatures:\", fahrenheit_temperatures)\n"
      ],
      "metadata": {
        "id": "uKKjKXnDl49F",
        "colab": {
          "base_uri": "https://localhost:8080/"
        },
        "outputId": "72dfc8ef-7fa2-40c0-d658-7d3e1098de94"
      },
      "execution_count": 5,
      "outputs": [
        {
          "output_type": "stream",
          "name": "stdout",
          "text": [
            "Celsius temperatures: [0, 20, 37, 100, -10, 15]\n",
            "Fahrenheit temperatures: [32.0, 68.0, 98.6, 212.0, 14.0, 59.0]\n"
          ]
        }
      ]
    },
    {
      "cell_type": "code",
      "source": [
        "#  10)Create a Python program that uses `filter()` to remove all the vowels from a given string.\n",
        "\n",
        "# Function to check if a character is not a vowel\n",
        "def is_not_vowel(char):\n",
        "    vowels = \"aeiouAEIOU\"\n",
        "    return char not in vowels\n",
        "\n",
        "                                                                            # Input string\n",
        "input_string = input(\"enter your words to cut vowels : \")\n",
        "\n",
        "                                                                            # Use filter() to remove vowels from the string\n",
        "filtered_string = \"\".join(filter(is_not_vowel, input_string))\n",
        "\n",
        "# Print the result\n",
        "print(\"Original string:\", input_string)\n",
        "print(\"String without vowels:\", filtered_string)\n"
      ],
      "metadata": {
        "colab": {
          "base_uri": "https://localhost:8080/"
        },
        "id": "dzPIF49pTkLB",
        "outputId": "8a88f58a-c9b4-4b31-fcce-b8cd45fbaf30"
      },
      "execution_count": 7,
      "outputs": [
        {
          "output_type": "stream",
          "name": "stdout",
          "text": [
            "enter your words to cut vowels : hello monjalikaa\n",
            "Original string: hello monjalikaa\n",
            "String without vowels: hll mnjlk\n"
          ]
        }
      ]
    },
    {
      "cell_type": "code",
      "source": [
        "#11)# Example list of orders: [order number, price per item, quantity]\n",
        "\n",
        "\n",
        "orders = [\n",
        "    [34587, 40.95, 4],\n",
        "    [98762, 56.80, 5],\n",
        "    [77226, 32.95, 3],\n",
        "    [88112, 24.99, 3]\n",
        "]\n",
        "\n",
        "# Use map with a lambda function to process the orders\n",
        "result = list(map(\n",
        "    lambda order: (\n",
        "        order[0],\n",
        "        order[1] * order[2] + (10 if order[1] * order[2] < 100 else 0)\n",
        "    ),\n",
        "    orders\n",
        "))\n",
        "\n",
        "# Print the resulting list of 2-tuples\n",
        "print(result)\n"
      ],
      "metadata": {
        "colab": {
          "base_uri": "https://localhost:8080/"
        },
        "id": "sP2n5KOeVSdG",
        "outputId": "03bdaa5d-af53-4522-9357-315b3816e0f5"
      },
      "execution_count": 8,
      "outputs": [
        {
          "output_type": "stream",
          "name": "stdout",
          "text": [
            "[(34587, 163.8), (98762, 284.0), (77226, 108.85000000000001), (88112, 84.97)]\n"
          ]
        }
      ]
    },
    {
      "cell_type": "code",
      "source": [],
      "metadata": {
        "id": "4E0jIPBbd-2-"
      },
      "execution_count": null,
      "outputs": []
    }
  ]
}